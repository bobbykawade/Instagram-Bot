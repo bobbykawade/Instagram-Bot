{
 "cells": [
  {
   "cell_type": "code",
   "execution_count": null,
   "id": "3b962075",
   "metadata": {},
   "outputs": [],
   "source": [
    "#!pip install instabot"
   ]
  },
  {
   "cell_type": "code",
   "execution_count": null,
   "id": "406af1e7",
   "metadata": {},
   "outputs": [],
   "source": [
    "from instabot import Bot"
   ]
  },
  {
   "cell_type": "code",
   "execution_count": null,
   "id": "0e3101bc",
   "metadata": {},
   "outputs": [],
   "source": [
    "bot = Bot()\n",
    "bot.login(username = \"\", password = \"\")"
   ]
  },
  {
   "cell_type": "code",
   "execution_count": null,
   "id": "1e0df94a",
   "metadata": {},
   "outputs": [],
   "source": [
    "#Upload a Image at Instagram Account\n",
    "bot.upload_photo(\"unicef_banglore_team.jpeg\", caption = \"Rocking Co-ordinating Team of UNICEF at Banglore Convention\")"
   ]
  },
  {
   "cell_type": "code",
   "execution_count": null,
   "id": "c8b22705",
   "metadata": {},
   "outputs": [],
   "source": [
    "# Follow the Account at Instagram\n",
    "bot.follow(\"atozmarathiofficial\")"
   ]
  },
  {
   "cell_type": "code",
   "execution_count": null,
   "id": "b3e25259",
   "metadata": {},
   "outputs": [],
   "source": [
    "# Send the Message\n",
    "bot.send_message(\"Hi How are you\", ['bobby_kawade', 'socialpagesai'])"
   ]
  },
  {
   "cell_type": "code",
   "execution_count": null,
   "id": "a0172af8",
   "metadata": {},
   "outputs": [],
   "source": [
    "#List of All Followers\n",
    "followers = bot.get_user_followers(\"socialpagesai\")"
   ]
  },
  {
   "cell_type": "code",
   "execution_count": null,
   "id": "4cdda48d",
   "metadata": {},
   "outputs": [],
   "source": [
    "print(followers)"
   ]
  },
  {
   "cell_type": "code",
   "execution_count": null,
   "id": "2477d951",
   "metadata": {},
   "outputs": [],
   "source": [
    "# Get the Names of the Followers\n",
    "for follower in followers:\n",
    "    print(bot.get_user_info(follower))"
   ]
  },
  {
   "cell_type": "code",
   "execution_count": null,
   "id": "c7ff95be",
   "metadata": {},
   "outputs": [],
   "source": [
    "# To Unfollow all Users from Instagram\n",
    "#bot.unfollow_everyone()"
   ]
  }
 ],
 "metadata": {
  "kernelspec": {
   "display_name": "Python 3",
   "language": "python",
   "name": "python3"
  },
  "language_info": {
   "codemirror_mode": {
    "name": "ipython",
    "version": 3
   },
   "file_extension": ".py",
   "mimetype": "text/x-python",
   "name": "python",
   "nbconvert_exporter": "python",
   "pygments_lexer": "ipython3",
   "version": "3.8.8"
  }
 },
 "nbformat": 4,
 "nbformat_minor": 5
}
